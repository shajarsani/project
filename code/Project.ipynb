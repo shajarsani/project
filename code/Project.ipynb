{
 "cells": [
  {
   "cell_type": "markdown",
   "id": "5881a465",
   "metadata": {},
   "source": [
    "# Movies and TV Shows on Netflix"
   ]
  },
  {
   "cell_type": "markdown",
   "id": "9ed0d3e7",
   "metadata": {},
   "source": [
    "This dataset consists of tv shows and movies available on Netflix.\n",
    "\n"
   ]
  },
  {
   "cell_type": "markdown",
   "id": "2033c145",
   "metadata": {},
   "source": [
    "Import libraries"
   ]
  },
  {
   "cell_type": "code",
   "execution_count": 114,
   "id": "c0a81d6e",
   "metadata": {},
   "outputs": [],
   "source": [
    "import pandas as pd\n",
    "import numpy as np \n",
    "import matplotlib.pyplot as plt\n",
    "\n",
    "# set the plots to display in the Jupyter notebook\n",
    "%matplotlib inline\n",
    "\n",
    "import warnings\n",
    "warnings.filterwarnings(\"ignore\")\n",
    "\n",
    "\n",
    "#plotting colors\n",
    "plt.style.use('ggplot')\n",
    "\n",
    "plt.rcParams['figure.figsize'] = (8, 6)\n",
    "plt.rcParams['font.size'] = 14"
   ]
  },
  {
   "cell_type": "code",
   "execution_count": null,
   "id": "dd02910b",
   "metadata": {},
   "outputs": [],
   "source": []
  },
  {
   "cell_type": "markdown",
   "id": "fc84c239",
   "metadata": {},
   "source": [
    "Read data"
   ]
  },
  {
   "cell_type": "code",
   "execution_count": 115,
   "id": "1604b74a",
   "metadata": {},
   "outputs": [],
   "source": [
    "nfx = pd.read_csv('../data/netflix_titles.csv')"
   ]
  },
  {
   "cell_type": "code",
   "execution_count": null,
   "id": "7da71476",
   "metadata": {},
   "outputs": [],
   "source": []
  },
  {
   "cell_type": "markdown",
   "id": "717c73bf",
   "metadata": {},
   "source": [
    "# Exploring the data"
   ]
  },
  {
   "cell_type": "markdown",
   "id": "6b083638",
   "metadata": {},
   "source": [
    "To check this data consists of how many columns and rows"
   ]
  },
  {
   "cell_type": "code",
   "execution_count": 116,
   "id": "bc58ccfe",
   "metadata": {},
   "outputs": [
    {
     "data": {
      "text/plain": [
       "(7787, 12)"
      ]
     },
     "execution_count": 116,
     "metadata": {},
     "output_type": "execute_result"
    }
   ],
   "source": [
    "nfx.shape"
   ]
  },
  {
   "cell_type": "code",
   "execution_count": null,
   "id": "cc792701",
   "metadata": {},
   "outputs": [],
   "source": []
  },
  {
   "cell_type": "markdown",
   "id": "9f355f65",
   "metadata": {},
   "source": [
    "First and last 3 rows of the data"
   ]
  },
  {
   "cell_type": "code",
   "execution_count": 117,
   "id": "b1e62cf8",
   "metadata": {
    "scrolled": true
   },
   "outputs": [
    {
     "data": {
      "text/html": [
       "<div>\n",
       "<style scoped>\n",
       "    .dataframe tbody tr th:only-of-type {\n",
       "        vertical-align: middle;\n",
       "    }\n",
       "\n",
       "    .dataframe tbody tr th {\n",
       "        vertical-align: top;\n",
       "    }\n",
       "\n",
       "    .dataframe thead th {\n",
       "        text-align: right;\n",
       "    }\n",
       "</style>\n",
       "<table border=\"1\" class=\"dataframe\">\n",
       "  <thead>\n",
       "    <tr style=\"text-align: right;\">\n",
       "      <th></th>\n",
       "      <th>show_id</th>\n",
       "      <th>type</th>\n",
       "      <th>title</th>\n",
       "      <th>director</th>\n",
       "      <th>cast</th>\n",
       "      <th>country</th>\n",
       "      <th>date_added</th>\n",
       "      <th>release_year</th>\n",
       "      <th>rating</th>\n",
       "      <th>duration</th>\n",
       "      <th>listed_in</th>\n",
       "      <th>description</th>\n",
       "    </tr>\n",
       "  </thead>\n",
       "  <tbody>\n",
       "    <tr>\n",
       "      <th>0</th>\n",
       "      <td>s1</td>\n",
       "      <td>TV Show</td>\n",
       "      <td>3%</td>\n",
       "      <td>NaN</td>\n",
       "      <td>João Miguel, Bianca Comparato, Michel Gomes, R...</td>\n",
       "      <td>Brazil</td>\n",
       "      <td>August 14, 2020</td>\n",
       "      <td>2020</td>\n",
       "      <td>TV-MA</td>\n",
       "      <td>4 Seasons</td>\n",
       "      <td>International TV Shows, TV Dramas, TV Sci-Fi &amp;...</td>\n",
       "      <td>In a future where the elite inhabit an island ...</td>\n",
       "    </tr>\n",
       "    <tr>\n",
       "      <th>1</th>\n",
       "      <td>s2</td>\n",
       "      <td>Movie</td>\n",
       "      <td>7:19</td>\n",
       "      <td>Jorge Michel Grau</td>\n",
       "      <td>Demián Bichir, Héctor Bonilla, Oscar Serrano, ...</td>\n",
       "      <td>Mexico</td>\n",
       "      <td>December 23, 2016</td>\n",
       "      <td>2016</td>\n",
       "      <td>TV-MA</td>\n",
       "      <td>93 min</td>\n",
       "      <td>Dramas, International Movies</td>\n",
       "      <td>After a devastating earthquake hits Mexico Cit...</td>\n",
       "    </tr>\n",
       "    <tr>\n",
       "      <th>2</th>\n",
       "      <td>s3</td>\n",
       "      <td>Movie</td>\n",
       "      <td>23:59</td>\n",
       "      <td>Gilbert Chan</td>\n",
       "      <td>Tedd Chan, Stella Chung, Henley Hii, Lawrence ...</td>\n",
       "      <td>Singapore</td>\n",
       "      <td>December 20, 2018</td>\n",
       "      <td>2011</td>\n",
       "      <td>R</td>\n",
       "      <td>78 min</td>\n",
       "      <td>Horror Movies, International Movies</td>\n",
       "      <td>When an army recruit is found dead, his fellow...</td>\n",
       "    </tr>\n",
       "  </tbody>\n",
       "</table>\n",
       "</div>"
      ],
      "text/plain": [
       "  show_id     type  title           director  \\\n",
       "0      s1  TV Show     3%                NaN   \n",
       "1      s2    Movie   7:19  Jorge Michel Grau   \n",
       "2      s3    Movie  23:59       Gilbert Chan   \n",
       "\n",
       "                                                cast    country  \\\n",
       "0  João Miguel, Bianca Comparato, Michel Gomes, R...     Brazil   \n",
       "1  Demián Bichir, Héctor Bonilla, Oscar Serrano, ...     Mexico   \n",
       "2  Tedd Chan, Stella Chung, Henley Hii, Lawrence ...  Singapore   \n",
       "\n",
       "          date_added  release_year rating   duration  \\\n",
       "0    August 14, 2020          2020  TV-MA  4 Seasons   \n",
       "1  December 23, 2016          2016  TV-MA     93 min   \n",
       "2  December 20, 2018          2011      R     78 min   \n",
       "\n",
       "                                           listed_in  \\\n",
       "0  International TV Shows, TV Dramas, TV Sci-Fi &...   \n",
       "1                       Dramas, International Movies   \n",
       "2                Horror Movies, International Movies   \n",
       "\n",
       "                                         description  \n",
       "0  In a future where the elite inhabit an island ...  \n",
       "1  After a devastating earthquake hits Mexico Cit...  \n",
       "2  When an army recruit is found dead, his fellow...  "
      ]
     },
     "execution_count": 117,
     "metadata": {},
     "output_type": "execute_result"
    }
   ],
   "source": [
    "nfx.head(3) # head() print the first 3 rows"
   ]
  },
  {
   "cell_type": "code",
   "execution_count": 118,
   "id": "fe264a5f",
   "metadata": {},
   "outputs": [
    {
     "data": {
      "text/html": [
       "<div>\n",
       "<style scoped>\n",
       "    .dataframe tbody tr th:only-of-type {\n",
       "        vertical-align: middle;\n",
       "    }\n",
       "\n",
       "    .dataframe tbody tr th {\n",
       "        vertical-align: top;\n",
       "    }\n",
       "\n",
       "    .dataframe thead th {\n",
       "        text-align: right;\n",
       "    }\n",
       "</style>\n",
       "<table border=\"1\" class=\"dataframe\">\n",
       "  <thead>\n",
       "    <tr style=\"text-align: right;\">\n",
       "      <th></th>\n",
       "      <th>show_id</th>\n",
       "      <th>type</th>\n",
       "      <th>title</th>\n",
       "      <th>director</th>\n",
       "      <th>cast</th>\n",
       "      <th>country</th>\n",
       "      <th>date_added</th>\n",
       "      <th>release_year</th>\n",
       "      <th>rating</th>\n",
       "      <th>duration</th>\n",
       "      <th>listed_in</th>\n",
       "      <th>description</th>\n",
       "    </tr>\n",
       "  </thead>\n",
       "  <tbody>\n",
       "    <tr>\n",
       "      <th>7784</th>\n",
       "      <td>s7785</td>\n",
       "      <td>Movie</td>\n",
       "      <td>Zulu Man in Japan</td>\n",
       "      <td>NaN</td>\n",
       "      <td>Nasty C</td>\n",
       "      <td>NaN</td>\n",
       "      <td>September 25, 2020</td>\n",
       "      <td>2019</td>\n",
       "      <td>TV-MA</td>\n",
       "      <td>44 min</td>\n",
       "      <td>Documentaries, International Movies, Music &amp; M...</td>\n",
       "      <td>In this documentary, South African rapper Nast...</td>\n",
       "    </tr>\n",
       "    <tr>\n",
       "      <th>7785</th>\n",
       "      <td>s7786</td>\n",
       "      <td>TV Show</td>\n",
       "      <td>Zumbo's Just Desserts</td>\n",
       "      <td>NaN</td>\n",
       "      <td>Adriano Zumbo, Rachel Khoo</td>\n",
       "      <td>Australia</td>\n",
       "      <td>October 31, 2020</td>\n",
       "      <td>2019</td>\n",
       "      <td>TV-PG</td>\n",
       "      <td>1 Season</td>\n",
       "      <td>International TV Shows, Reality TV</td>\n",
       "      <td>Dessert wizard Adriano Zumbo looks for the nex...</td>\n",
       "    </tr>\n",
       "    <tr>\n",
       "      <th>7786</th>\n",
       "      <td>s7787</td>\n",
       "      <td>Movie</td>\n",
       "      <td>ZZ TOP: THAT LITTLE OL' BAND FROM TEXAS</td>\n",
       "      <td>Sam Dunn</td>\n",
       "      <td>NaN</td>\n",
       "      <td>United Kingdom, Canada, United States</td>\n",
       "      <td>March 1, 2020</td>\n",
       "      <td>2019</td>\n",
       "      <td>TV-MA</td>\n",
       "      <td>90 min</td>\n",
       "      <td>Documentaries, Music &amp; Musicals</td>\n",
       "      <td>This documentary delves into the mystique behi...</td>\n",
       "    </tr>\n",
       "  </tbody>\n",
       "</table>\n",
       "</div>"
      ],
      "text/plain": [
       "     show_id     type                                    title  director  \\\n",
       "7784   s7785    Movie                        Zulu Man in Japan       NaN   \n",
       "7785   s7786  TV Show                    Zumbo's Just Desserts       NaN   \n",
       "7786   s7787    Movie  ZZ TOP: THAT LITTLE OL' BAND FROM TEXAS  Sam Dunn   \n",
       "\n",
       "                            cast                                country  \\\n",
       "7784                     Nasty C                                    NaN   \n",
       "7785  Adriano Zumbo, Rachel Khoo                              Australia   \n",
       "7786                         NaN  United Kingdom, Canada, United States   \n",
       "\n",
       "              date_added  release_year rating  duration  \\\n",
       "7784  September 25, 2020          2019  TV-MA    44 min   \n",
       "7785    October 31, 2020          2019  TV-PG  1 Season   \n",
       "7786       March 1, 2020          2019  TV-MA    90 min   \n",
       "\n",
       "                                              listed_in  \\\n",
       "7784  Documentaries, International Movies, Music & M...   \n",
       "7785                 International TV Shows, Reality TV   \n",
       "7786                    Documentaries, Music & Musicals   \n",
       "\n",
       "                                            description  \n",
       "7784  In this documentary, South African rapper Nast...  \n",
       "7785  Dessert wizard Adriano Zumbo looks for the nex...  \n",
       "7786  This documentary delves into the mystique behi...  "
      ]
     },
     "execution_count": 118,
     "metadata": {},
     "output_type": "execute_result"
    }
   ],
   "source": [
    "nfx.tail(3) # tail() print the last 3 rows "
   ]
  },
  {
   "cell_type": "code",
   "execution_count": null,
   "id": "d8a12e1f",
   "metadata": {},
   "outputs": [],
   "source": []
  },
  {
   "cell_type": "markdown",
   "id": "a65738b3",
   "metadata": {},
   "source": [
    "Summary of the dataframe"
   ]
  },
  {
   "cell_type": "code",
   "execution_count": 119,
   "id": "5ca3e66f",
   "metadata": {},
   "outputs": [
    {
     "name": "stdout",
     "output_type": "stream",
     "text": [
      "<class 'pandas.core.frame.DataFrame'>\n",
      "RangeIndex: 7787 entries, 0 to 7786\n",
      "Data columns (total 12 columns):\n",
      " #   Column        Non-Null Count  Dtype \n",
      "---  ------        --------------  ----- \n",
      " 0   show_id       7787 non-null   object\n",
      " 1   type          7787 non-null   object\n",
      " 2   title         7787 non-null   object\n",
      " 3   director      5398 non-null   object\n",
      " 4   cast          7069 non-null   object\n",
      " 5   country       7280 non-null   object\n",
      " 6   date_added    7777 non-null   object\n",
      " 7   release_year  7787 non-null   int64 \n",
      " 8   rating        7780 non-null   object\n",
      " 9   duration      7787 non-null   object\n",
      " 10  listed_in     7787 non-null   object\n",
      " 11  description   7787 non-null   object\n",
      "dtypes: int64(1), object(11)\n",
      "memory usage: 730.2+ KB\n"
     ]
    }
   ],
   "source": [
    "nfx.info()"
   ]
  },
  {
   "cell_type": "code",
   "execution_count": null,
   "id": "6eab76ea",
   "metadata": {},
   "outputs": [],
   "source": []
  },
  {
   "cell_type": "markdown",
   "id": "c59bd906",
   "metadata": {},
   "source": [
    "Change the index"
   ]
  },
  {
   "cell_type": "code",
   "execution_count": 120,
   "id": "9cecb2e4",
   "metadata": {},
   "outputs": [
    {
     "name": "stdout",
     "output_type": "stream",
     "text": [
      "None\n"
     ]
    }
   ],
   "source": [
    "print(nfx.index.name) "
   ]
  },
  {
   "cell_type": "markdown",
   "id": "8ba3518a",
   "metadata": {},
   "source": [
    "Change the index with show_id because the show_id is the primary key. "
   ]
  },
  {
   "cell_type": "code",
   "execution_count": 121,
   "id": "944db0d5",
   "metadata": {},
   "outputs": [],
   "source": [
    "nfx.set_index('show_id', inplace=True) # this is how you change the index"
   ]
  },
  {
   "cell_type": "code",
   "execution_count": 122,
   "id": "9599adab",
   "metadata": {},
   "outputs": [
    {
     "name": "stdout",
     "output_type": "stream",
     "text": [
      "show_id\n"
     ]
    }
   ],
   "source": [
    "print(nfx.index.name)  # now the index name is show_id"
   ]
  },
  {
   "cell_type": "code",
   "execution_count": 123,
   "id": "51230545",
   "metadata": {},
   "outputs": [
    {
     "data": {
      "text/plain": [
       "Index(['s1', 's2', 's3', 's4', 's5', 's6', 's7', 's8', 's9', 's10',\n",
       "       ...\n",
       "       's7778', 's7779', 's7780', 's7781', 's7782', 's7783', 's7784', 's7785',\n",
       "       's7786', 's7787'],\n",
       "      dtype='object', name='show_id', length=7787)"
      ]
     },
     "execution_count": 123,
     "metadata": {},
     "output_type": "execute_result"
    }
   ],
   "source": [
    "nfx.index"
   ]
  },
  {
   "cell_type": "code",
   "execution_count": 124,
   "id": "5cf51784",
   "metadata": {},
   "outputs": [
    {
     "data": {
      "text/html": [
       "<div>\n",
       "<style scoped>\n",
       "    .dataframe tbody tr th:only-of-type {\n",
       "        vertical-align: middle;\n",
       "    }\n",
       "\n",
       "    .dataframe tbody tr th {\n",
       "        vertical-align: top;\n",
       "    }\n",
       "\n",
       "    .dataframe thead th {\n",
       "        text-align: right;\n",
       "    }\n",
       "</style>\n",
       "<table border=\"1\" class=\"dataframe\">\n",
       "  <thead>\n",
       "    <tr style=\"text-align: right;\">\n",
       "      <th></th>\n",
       "      <th>type</th>\n",
       "      <th>title</th>\n",
       "      <th>director</th>\n",
       "      <th>cast</th>\n",
       "      <th>country</th>\n",
       "      <th>date_added</th>\n",
       "      <th>release_year</th>\n",
       "      <th>rating</th>\n",
       "      <th>duration</th>\n",
       "      <th>listed_in</th>\n",
       "      <th>description</th>\n",
       "    </tr>\n",
       "    <tr>\n",
       "      <th>show_id</th>\n",
       "      <th></th>\n",
       "      <th></th>\n",
       "      <th></th>\n",
       "      <th></th>\n",
       "      <th></th>\n",
       "      <th></th>\n",
       "      <th></th>\n",
       "      <th></th>\n",
       "      <th></th>\n",
       "      <th></th>\n",
       "      <th></th>\n",
       "    </tr>\n",
       "  </thead>\n",
       "  <tbody>\n",
       "    <tr>\n",
       "      <th>s1</th>\n",
       "      <td>TV Show</td>\n",
       "      <td>3%</td>\n",
       "      <td>NaN</td>\n",
       "      <td>João Miguel, Bianca Comparato, Michel Gomes, R...</td>\n",
       "      <td>Brazil</td>\n",
       "      <td>August 14, 2020</td>\n",
       "      <td>2020</td>\n",
       "      <td>TV-MA</td>\n",
       "      <td>4 Seasons</td>\n",
       "      <td>International TV Shows, TV Dramas, TV Sci-Fi &amp;...</td>\n",
       "      <td>In a future where the elite inhabit an island ...</td>\n",
       "    </tr>\n",
       "    <tr>\n",
       "      <th>s2</th>\n",
       "      <td>Movie</td>\n",
       "      <td>7:19</td>\n",
       "      <td>Jorge Michel Grau</td>\n",
       "      <td>Demián Bichir, Héctor Bonilla, Oscar Serrano, ...</td>\n",
       "      <td>Mexico</td>\n",
       "      <td>December 23, 2016</td>\n",
       "      <td>2016</td>\n",
       "      <td>TV-MA</td>\n",
       "      <td>93 min</td>\n",
       "      <td>Dramas, International Movies</td>\n",
       "      <td>After a devastating earthquake hits Mexico Cit...</td>\n",
       "    </tr>\n",
       "    <tr>\n",
       "      <th>s3</th>\n",
       "      <td>Movie</td>\n",
       "      <td>23:59</td>\n",
       "      <td>Gilbert Chan</td>\n",
       "      <td>Tedd Chan, Stella Chung, Henley Hii, Lawrence ...</td>\n",
       "      <td>Singapore</td>\n",
       "      <td>December 20, 2018</td>\n",
       "      <td>2011</td>\n",
       "      <td>R</td>\n",
       "      <td>78 min</td>\n",
       "      <td>Horror Movies, International Movies</td>\n",
       "      <td>When an army recruit is found dead, his fellow...</td>\n",
       "    </tr>\n",
       "  </tbody>\n",
       "</table>\n",
       "</div>"
      ],
      "text/plain": [
       "            type  title           director  \\\n",
       "show_id                                      \n",
       "s1       TV Show     3%                NaN   \n",
       "s2         Movie   7:19  Jorge Michel Grau   \n",
       "s3         Movie  23:59       Gilbert Chan   \n",
       "\n",
       "                                                      cast    country  \\\n",
       "show_id                                                                 \n",
       "s1       João Miguel, Bianca Comparato, Michel Gomes, R...     Brazil   \n",
       "s2       Demián Bichir, Héctor Bonilla, Oscar Serrano, ...     Mexico   \n",
       "s3       Tedd Chan, Stella Chung, Henley Hii, Lawrence ...  Singapore   \n",
       "\n",
       "                date_added  release_year rating   duration  \\\n",
       "show_id                                                      \n",
       "s1         August 14, 2020          2020  TV-MA  4 Seasons   \n",
       "s2       December 23, 2016          2016  TV-MA     93 min   \n",
       "s3       December 20, 2018          2011      R     78 min   \n",
       "\n",
       "                                                 listed_in  \\\n",
       "show_id                                                      \n",
       "s1       International TV Shows, TV Dramas, TV Sci-Fi &...   \n",
       "s2                            Dramas, International Movies   \n",
       "s3                     Horror Movies, International Movies   \n",
       "\n",
       "                                               description  \n",
       "show_id                                                     \n",
       "s1       In a future where the elite inhabit an island ...  \n",
       "s2       After a devastating earthquake hits Mexico Cit...  \n",
       "s3       When an army recruit is found dead, his fellow...  "
      ]
     },
     "execution_count": 124,
     "metadata": {},
     "output_type": "execute_result"
    }
   ],
   "source": [
    "nfx.head(3)"
   ]
  },
  {
   "cell_type": "code",
   "execution_count": null,
   "id": "2f21fe82",
   "metadata": {},
   "outputs": [],
   "source": []
  },
  {
   "cell_type": "markdown",
   "id": "f524d940",
   "metadata": {},
   "source": [
    "Columns header"
   ]
  },
  {
   "cell_type": "code",
   "execution_count": 125,
   "id": "5ffd8795",
   "metadata": {},
   "outputs": [
    {
     "data": {
      "text/plain": [
       "Index(['type', 'title', 'director', 'cast', 'country', 'date_added',\n",
       "       'release_year', 'rating', 'duration', 'listed_in', 'description'],\n",
       "      dtype='object')"
      ]
     },
     "execution_count": 125,
     "metadata": {},
     "output_type": "execute_result"
    }
   ],
   "source": [
    "nfx.columns"
   ]
  },
  {
   "cell_type": "code",
   "execution_count": null,
   "id": "7b55e0b9",
   "metadata": {},
   "outputs": [],
   "source": []
  },
  {
   "cell_type": "markdown",
   "id": "9b97439a",
   "metadata": {},
   "source": [
    "# Data Cleansing"
   ]
  },
  {
   "cell_type": "markdown",
   "id": "93409949",
   "metadata": {},
   "source": [
    "1. Identify the missing values"
   ]
  },
  {
   "cell_type": "code",
   "execution_count": 126,
   "id": "fdfee996",
   "metadata": {},
   "outputs": [
    {
     "data": {
      "text/plain": [
       "type               0\n",
       "title              0\n",
       "director        2389\n",
       "cast             718\n",
       "country          507\n",
       "date_added        10\n",
       "release_year       0\n",
       "rating             7\n",
       "duration           0\n",
       "listed_in          0\n",
       "description        0\n",
       "dtype: int64"
      ]
     },
     "execution_count": 126,
     "metadata": {},
     "output_type": "execute_result"
    }
   ],
   "source": [
    "nfx.isnull().sum()"
   ]
  },
  {
   "cell_type": "markdown",
   "id": "20268dfe",
   "metadata": {},
   "source": [
    "2. Fill in the missing value"
   ]
  },
  {
   "cell_type": "markdown",
   "id": "6983f7dd",
   "metadata": {},
   "source": [
    "* 'director' column"
   ]
  },
  {
   "cell_type": "code",
   "execution_count": 127,
   "id": "799811cd",
   "metadata": {},
   "outputs": [],
   "source": [
    "nfx['director'] = nfx['director'].fillna(value='UnknownDirector')"
   ]
  },
  {
   "cell_type": "code",
   "execution_count": 128,
   "id": "59678497",
   "metadata": {},
   "outputs": [
    {
     "data": {
      "text/html": [
       "<div>\n",
       "<style scoped>\n",
       "    .dataframe tbody tr th:only-of-type {\n",
       "        vertical-align: middle;\n",
       "    }\n",
       "\n",
       "    .dataframe tbody tr th {\n",
       "        vertical-align: top;\n",
       "    }\n",
       "\n",
       "    .dataframe thead th {\n",
       "        text-align: right;\n",
       "    }\n",
       "</style>\n",
       "<table border=\"1\" class=\"dataframe\">\n",
       "  <thead>\n",
       "    <tr style=\"text-align: right;\">\n",
       "      <th></th>\n",
       "      <th>director</th>\n",
       "    </tr>\n",
       "    <tr>\n",
       "      <th>show_id</th>\n",
       "      <th></th>\n",
       "    </tr>\n",
       "  </thead>\n",
       "  <tbody>\n",
       "    <tr>\n",
       "      <th>s1</th>\n",
       "      <td>UnknownDirector</td>\n",
       "    </tr>\n",
       "    <tr>\n",
       "      <th>s2</th>\n",
       "      <td>Jorge Michel Grau</td>\n",
       "    </tr>\n",
       "    <tr>\n",
       "      <th>s3</th>\n",
       "      <td>Gilbert Chan</td>\n",
       "    </tr>\n",
       "    <tr>\n",
       "      <th>s4</th>\n",
       "      <td>Shane Acker</td>\n",
       "    </tr>\n",
       "    <tr>\n",
       "      <th>s5</th>\n",
       "      <td>Robert Luketic</td>\n",
       "    </tr>\n",
       "    <tr>\n",
       "      <th>...</th>\n",
       "      <td>...</td>\n",
       "    </tr>\n",
       "    <tr>\n",
       "      <th>s7783</th>\n",
       "      <td>Josef Fares</td>\n",
       "    </tr>\n",
       "    <tr>\n",
       "      <th>s7784</th>\n",
       "      <td>Mozez Singh</td>\n",
       "    </tr>\n",
       "    <tr>\n",
       "      <th>s7785</th>\n",
       "      <td>UnknownDirector</td>\n",
       "    </tr>\n",
       "    <tr>\n",
       "      <th>s7786</th>\n",
       "      <td>UnknownDirector</td>\n",
       "    </tr>\n",
       "    <tr>\n",
       "      <th>s7787</th>\n",
       "      <td>Sam Dunn</td>\n",
       "    </tr>\n",
       "  </tbody>\n",
       "</table>\n",
       "<p>7787 rows × 1 columns</p>\n",
       "</div>"
      ],
      "text/plain": [
       "                  director\n",
       "show_id                   \n",
       "s1         UnknownDirector\n",
       "s2       Jorge Michel Grau\n",
       "s3            Gilbert Chan\n",
       "s4             Shane Acker\n",
       "s5          Robert Luketic\n",
       "...                    ...\n",
       "s7783          Josef Fares\n",
       "s7784          Mozez Singh\n",
       "s7785      UnknownDirector\n",
       "s7786      UnknownDirector\n",
       "s7787             Sam Dunn\n",
       "\n",
       "[7787 rows x 1 columns]"
      ]
     },
     "execution_count": 128,
     "metadata": {},
     "output_type": "execute_result"
    }
   ],
   "source": [
    "nfx[['director']]"
   ]
  },
  {
   "cell_type": "markdown",
   "id": "737e8b6d",
   "metadata": {},
   "source": [
    "* 'date_added' column"
   ]
  },
  {
   "cell_type": "code",
   "execution_count": 129,
   "id": "40bdde92",
   "metadata": {},
   "outputs": [],
   "source": [
    "nfx['date_added'] = nfx['date_added'].fillna(value='date_added')"
   ]
  },
  {
   "cell_type": "markdown",
   "id": "4615939f",
   "metadata": {},
   "source": [
    "3. Drop the missing values"
   ]
  },
  {
   "cell_type": "code",
   "execution_count": 130,
   "id": "5d775f2a",
   "metadata": {},
   "outputs": [],
   "source": [
    "nfx = nfx.dropna(how='any', subset=['cast','country','rating'])"
   ]
  },
  {
   "cell_type": "code",
   "execution_count": 131,
   "id": "b20a4737",
   "metadata": {},
   "outputs": [
    {
     "data": {
      "text/plain": [
       "type            0\n",
       "title           0\n",
       "director        0\n",
       "cast            0\n",
       "country         0\n",
       "date_added      0\n",
       "release_year    0\n",
       "rating          0\n",
       "duration        0\n",
       "listed_in       0\n",
       "description     0\n",
       "dtype: int64"
      ]
     },
     "execution_count": 131,
     "metadata": {},
     "output_type": "execute_result"
    }
   ],
   "source": [
    "nfx.isnull().sum()"
   ]
  },
  {
   "cell_type": "code",
   "execution_count": 132,
   "id": "d56d3b10",
   "metadata": {},
   "outputs": [
    {
     "data": {
      "text/plain": [
       "(6652, 11)"
      ]
     },
     "execution_count": 132,
     "metadata": {},
     "output_type": "execute_result"
    }
   ],
   "source": [
    "# before this nfx.shape = (7787, 12)\n",
    "# after drop and fill\n",
    "nfx.shape"
   ]
  },
  {
   "cell_type": "markdown",
   "id": "debd4a36",
   "metadata": {},
   "source": [
    "4. Create a new columns"
   ]
  },
  {
   "cell_type": "markdown",
   "id": "c2862de0",
   "metadata": {},
   "source": [
    "* 'genre'"
   ]
  },
  {
   "cell_type": "code",
   "execution_count": 133,
   "id": "bfdadce5",
   "metadata": {},
   "outputs": [],
   "source": [
    "# listed_in consists of more than one genre\n",
    "# split the string thats separate with ',', make it into list and [0] stand for the first string in the list\n",
    "nfx['genre'] = nfx['listed_in'].apply(lambda x : x.split(\",\")[0])"
   ]
  },
  {
   "cell_type": "markdown",
   "id": "cd3bf22a",
   "metadata": {},
   "source": [
    "* 'main_country'"
   ]
  },
  {
   "cell_type": "code",
   "execution_count": 134,
   "id": "a11b45ea",
   "metadata": {},
   "outputs": [],
   "source": [
    "nfx['main_country'] = nfx['country'].apply(lambda x : x.split(\",\")[0])"
   ]
  },
  {
   "cell_type": "code",
   "execution_count": 135,
   "id": "c3e7fafd",
   "metadata": {},
   "outputs": [
    {
     "data": {
      "text/html": [
       "<div>\n",
       "<style scoped>\n",
       "    .dataframe tbody tr th:only-of-type {\n",
       "        vertical-align: middle;\n",
       "    }\n",
       "\n",
       "    .dataframe tbody tr th {\n",
       "        vertical-align: top;\n",
       "    }\n",
       "\n",
       "    .dataframe thead th {\n",
       "        text-align: right;\n",
       "    }\n",
       "</style>\n",
       "<table border=\"1\" class=\"dataframe\">\n",
       "  <thead>\n",
       "    <tr style=\"text-align: right;\">\n",
       "      <th></th>\n",
       "      <th>type</th>\n",
       "      <th>title</th>\n",
       "      <th>director</th>\n",
       "      <th>cast</th>\n",
       "      <th>country</th>\n",
       "      <th>date_added</th>\n",
       "      <th>release_year</th>\n",
       "      <th>rating</th>\n",
       "      <th>duration</th>\n",
       "      <th>listed_in</th>\n",
       "      <th>description</th>\n",
       "      <th>genre</th>\n",
       "      <th>main_country</th>\n",
       "    </tr>\n",
       "    <tr>\n",
       "      <th>show_id</th>\n",
       "      <th></th>\n",
       "      <th></th>\n",
       "      <th></th>\n",
       "      <th></th>\n",
       "      <th></th>\n",
       "      <th></th>\n",
       "      <th></th>\n",
       "      <th></th>\n",
       "      <th></th>\n",
       "      <th></th>\n",
       "      <th></th>\n",
       "      <th></th>\n",
       "      <th></th>\n",
       "    </tr>\n",
       "  </thead>\n",
       "  <tbody>\n",
       "    <tr>\n",
       "      <th>s7783</th>\n",
       "      <td>Movie</td>\n",
       "      <td>Zozo</td>\n",
       "      <td>Josef Fares</td>\n",
       "      <td>Imad Creidi, Antoinette Turk, Elias Gergi, Car...</td>\n",
       "      <td>Sweden, Czech Republic, United Kingdom, Denmar...</td>\n",
       "      <td>October 19, 2020</td>\n",
       "      <td>2005</td>\n",
       "      <td>TV-MA</td>\n",
       "      <td>99 min</td>\n",
       "      <td>Dramas, International Movies</td>\n",
       "      <td>When Lebanon's Civil War deprives Zozo of his ...</td>\n",
       "      <td>Dramas</td>\n",
       "      <td>Sweden</td>\n",
       "    </tr>\n",
       "    <tr>\n",
       "      <th>s7784</th>\n",
       "      <td>Movie</td>\n",
       "      <td>Zubaan</td>\n",
       "      <td>Mozez Singh</td>\n",
       "      <td>Vicky Kaushal, Sarah-Jane Dias, Raaghav Chanan...</td>\n",
       "      <td>India</td>\n",
       "      <td>March 2, 2019</td>\n",
       "      <td>2015</td>\n",
       "      <td>TV-14</td>\n",
       "      <td>111 min</td>\n",
       "      <td>Dramas, International Movies, Music &amp; Musicals</td>\n",
       "      <td>A scrappy but poor boy worms his way into a ty...</td>\n",
       "      <td>Dramas</td>\n",
       "      <td>India</td>\n",
       "    </tr>\n",
       "    <tr>\n",
       "      <th>s7786</th>\n",
       "      <td>TV Show</td>\n",
       "      <td>Zumbo's Just Desserts</td>\n",
       "      <td>UnknownDirector</td>\n",
       "      <td>Adriano Zumbo, Rachel Khoo</td>\n",
       "      <td>Australia</td>\n",
       "      <td>October 31, 2020</td>\n",
       "      <td>2019</td>\n",
       "      <td>TV-PG</td>\n",
       "      <td>1 Season</td>\n",
       "      <td>International TV Shows, Reality TV</td>\n",
       "      <td>Dessert wizard Adriano Zumbo looks for the nex...</td>\n",
       "      <td>International TV Shows</td>\n",
       "      <td>Australia</td>\n",
       "    </tr>\n",
       "  </tbody>\n",
       "</table>\n",
       "</div>"
      ],
      "text/plain": [
       "            type                  title         director  \\\n",
       "show_id                                                    \n",
       "s7783      Movie                   Zozo      Josef Fares   \n",
       "s7784      Movie                 Zubaan      Mozez Singh   \n",
       "s7786    TV Show  Zumbo's Just Desserts  UnknownDirector   \n",
       "\n",
       "                                                      cast  \\\n",
       "show_id                                                      \n",
       "s7783    Imad Creidi, Antoinette Turk, Elias Gergi, Car...   \n",
       "s7784    Vicky Kaushal, Sarah-Jane Dias, Raaghav Chanan...   \n",
       "s7786                           Adriano Zumbo, Rachel Khoo   \n",
       "\n",
       "                                                   country        date_added  \\\n",
       "show_id                                                                        \n",
       "s7783    Sweden, Czech Republic, United Kingdom, Denmar...  October 19, 2020   \n",
       "s7784                                                India     March 2, 2019   \n",
       "s7786                                            Australia  October 31, 2020   \n",
       "\n",
       "         release_year rating  duration  \\\n",
       "show_id                                  \n",
       "s7783            2005  TV-MA    99 min   \n",
       "s7784            2015  TV-14   111 min   \n",
       "s7786            2019  TV-PG  1 Season   \n",
       "\n",
       "                                              listed_in  \\\n",
       "show_id                                                   \n",
       "s7783                      Dramas, International Movies   \n",
       "s7784    Dramas, International Movies, Music & Musicals   \n",
       "s7786                International TV Shows, Reality TV   \n",
       "\n",
       "                                               description  \\\n",
       "show_id                                                      \n",
       "s7783    When Lebanon's Civil War deprives Zozo of his ...   \n",
       "s7784    A scrappy but poor boy worms his way into a ty...   \n",
       "s7786    Dessert wizard Adriano Zumbo looks for the nex...   \n",
       "\n",
       "                          genre main_country  \n",
       "show_id                                       \n",
       "s7783                    Dramas       Sweden  \n",
       "s7784                    Dramas        India  \n",
       "s7786    International TV Shows    Australia  "
      ]
     },
     "execution_count": 135,
     "metadata": {},
     "output_type": "execute_result"
    }
   ],
   "source": [
    "nfx.tail(3)"
   ]
  },
  {
   "cell_type": "code",
   "execution_count": null,
   "id": "a820c108",
   "metadata": {},
   "outputs": [],
   "source": []
  },
  {
   "cell_type": "markdown",
   "id": "f008fb42",
   "metadata": {},
   "source": [
    "# Data visualization"
   ]
  },
  {
   "cell_type": "markdown",
   "id": "4ddc8122",
   "metadata": {},
   "source": [
    "1. Number of Movies and TV Shows on Netflix"
   ]
  },
  {
   "cell_type": "code",
   "execution_count": 136,
   "id": "3b2104cb",
   "metadata": {},
   "outputs": [
    {
     "data": {
      "text/plain": [
       "Movie      4761\n",
       "TV Show    1891\n",
       "Name: type, dtype: int64"
      ]
     },
     "execution_count": 136,
     "metadata": {},
     "output_type": "execute_result"
    }
   ],
   "source": [
    "nfx['type'].value_counts()"
   ]
  },
  {
   "cell_type": "code",
   "execution_count": 137,
   "id": "3bc4a4d6",
   "metadata": {},
   "outputs": [
    {
     "data": {
      "text/plain": [
       "Text(0.5, 1.0, 'Number of Movies and TV Shows on Netflix')"
      ]
     },
     "execution_count": 137,
     "metadata": {},
     "output_type": "execute_result"
    },
    {
     "data": {
      "image/png": "[encoded data removed]",
      "text/plain": [
       "<Figure size 576x432 with 1 Axes>"
      ]
     },
     "metadata": {},
     "output_type": "display_data"
    }
   ],
   "source": [
    "nfx['type'].value_counts().plot(kind='bar')\n",
    "plt.xlabel('Type')\n",
    "plt.title('Number of Movies and TV Shows on Netflix')"
   ]
  },
  {
   "cell_type": "markdown",
   "id": "36a6c217",
   "metadata": {},
   "source": [
    "> * There are more movies on Netflix than TV shows."
   ]
  },
  {
   "cell_type": "markdown",
   "id": "40b3fa11",
   "metadata": {},
   "source": [
    "2. Rating analysis for Movies and TV Shows"
   ]
  },
  {
   "cell_type": "code",
   "execution_count": 138,
   "id": "04f86689",
   "metadata": {},
   "outputs": [
    {
     "data": {
      "text/plain": [
       "TV-MA       2452\n",
       "TV-14       1639\n",
       "R            655\n",
       "TV-PG        629\n",
       "PG-13        375\n",
       "PG           238\n",
       "TV-Y7        209\n",
       "TV-Y         192\n",
       "TV-G         146\n",
       "NR            67\n",
       "G             38\n",
       "UR             5\n",
       "TV-Y7-FV       4\n",
       "NC-17          3\n",
       "Name: rating, dtype: int64"
      ]
     },
     "execution_count": 138,
     "metadata": {},
     "output_type": "execute_result"
    }
   ],
   "source": [
    "nfx[\"rating\"].value_counts() # rating for both movies and tv shows"
   ]
  },
  {
   "cell_type": "markdown",
   "id": "fcd9efe7",
   "metadata": {},
   "source": [
    "* Rating analysis for Movies"
   ]
  },
  {
   "cell_type": "code",
   "execution_count": 139,
   "id": "569af940",
   "metadata": {},
   "outputs": [
    {
     "data": {
      "text/plain": [
       "TV-MA       1628\n",
       "TV-14       1110\n",
       "R            654\n",
       "TV-PG        412\n",
       "PG-13        375\n",
       "PG           238\n",
       "TV-G          85\n",
       "TV-Y          75\n",
       "TV-Y7         73\n",
       "NR            62\n",
       "G             38\n",
       "UR             5\n",
       "TV-Y7-FV       3\n",
       "NC-17          3\n",
       "Name: rating, dtype: int64"
      ]
     },
     "execution_count": 139,
     "metadata": {},
     "output_type": "execute_result"
    }
   ],
   "source": [
    "nfx[nfx['type'] == \"Movie\"][\"rating\"].value_counts()"
   ]
  },
  {
   "cell_type": "code",
   "execution_count": 140,
   "id": "2c1a1f79",
   "metadata": {},
   "outputs": [
    {
     "data": {
      "text/plain": [
       "Text(0.5, 1.0, 'Movies Rating')"
      ]
     },
     "execution_count": 140,
     "metadata": {},
     "output_type": "execute_result"
    },
    {
     "data": {
      "image/png": "[encoded data removed]",
      "text/plain": [
       "<Figure size 576x432 with 1 Axes>"
      ]
     },
     "metadata": {},
     "output_type": "display_data"
    }
   ],
   "source": [
    "nfx[nfx['type'] == \"Movie\"]['rating'].value_counts().plot(kind='bar')\n",
    "plt.xlabel(\"Rating\")\n",
    "plt.title(\"Movies Rating\")"
   ]
  },
  {
   "cell_type": "markdown",
   "id": "fb1dbe92",
   "metadata": {},
   "source": [
    "> * Movies with rating 'TV-MA' has the highest count on Netflix. 'TV-MA' rating stands for the program is intended to be viewed by mature, adult audiences and may be unsuitable for children under 17.\n",
    "\n",
    "> * Second highest count is movies with rating 'TV-14'. 'TV-14' rating stands for the program may be unsuitable for children under 14 years of age.\n",
    "\n",
    "> * Movie with rating 'R' has the third highest count on Netflix. 'R' rating stands for restricted, children under 17 require accompanying parent or adult guardian. "
   ]
  },
  {
   "cell_type": "markdown",
   "id": "c5ad050c",
   "metadata": {},
   "source": [
    "* Rating analysis for TV shows"
   ]
  },
  {
   "cell_type": "code",
   "execution_count": 141,
   "id": "2d5d3780",
   "metadata": {},
   "outputs": [
    {
     "data": {
      "text/plain": [
       "TV-MA       824\n",
       "TV-14       529\n",
       "TV-PG       217\n",
       "TV-Y7       136\n",
       "TV-Y        117\n",
       "TV-G         61\n",
       "NR            5\n",
       "TV-Y7-FV      1\n",
       "R             1\n",
       "Name: rating, dtype: int64"
      ]
     },
     "execution_count": 141,
     "metadata": {},
     "output_type": "execute_result"
    }
   ],
   "source": [
    "nfx[nfx['type'] == \"TV Show\"][\"rating\"].value_counts()"
   ]
  },
  {
   "cell_type": "code",
   "execution_count": 142,
   "id": "61a9eedb",
   "metadata": {},
   "outputs": [
    {
     "data": {
      "text/plain": [
       "Text(0.5, 1.0, 'TV Shows Rating')"
      ]
     },
     "execution_count": 142,
     "metadata": {},
     "output_type": "execute_result"
    },
    {
     "data": {
      "image/png": "[encoded data removed]",
      "text/plain": [
       "<Figure size 576x432 with 1 Axes>"
      ]
     },
     "metadata": {},
     "output_type": "display_data"
    }
   ],
   "source": [
    "nfx[nfx['type'] == \"TV Show\"][\"rating\"].value_counts().plot(kind='bar')\n",
    "plt.xlabel(\"Rating\")\n",
    "plt.title(\"TV Shows Rating\")"
   ]
  },
  {
   "cell_type": "markdown",
   "id": "2b8940d6",
   "metadata": {},
   "source": [
    "> * TV shows with rating 'TV-MA' has the highest count on Netflix, while the second highest count is 'TV-14' and the third highest count is 'TV-PG'. 'TV-PG' stands for program contains material that parents may find unsuitable for younger children. Parental guidance is recommended."
   ]
  },
  {
   "cell_type": "markdown",
   "id": "512d5cde",
   "metadata": {},
   "source": [
    "3. Analysis for Movie duration and TV Show their seasons"
   ]
  },
  {
   "cell_type": "markdown",
   "id": "bc61d74a",
   "metadata": {},
   "source": [
    "* Make a new dataframe for movie and tv show"
   ]
  },
  {
   "cell_type": "code",
   "execution_count": 143,
   "id": "6c4276af",
   "metadata": {},
   "outputs": [],
   "source": [
    "nfx_movie = nfx[nfx['type'] == 'Movie']\n",
    "nfx_tvshow = nfx[nfx['type'] == 'TV Show']"
   ]
  },
  {
   "cell_type": "markdown",
   "id": "35cca1ce",
   "metadata": {},
   "source": [
    "* Create a function to get the number in 'duration' and change it into integer"
   ]
  },
  {
   "cell_type": "code",
   "execution_count": 144,
   "id": "2584f5ec",
   "metadata": {},
   "outputs": [],
   "source": [
    "def change_to_integer(duration):    \n",
    "        try:\n",
    "            return int(duration.split(' ')[0]) # split the string and [0] contain the number \n",
    "        except:\n",
    "            return 'NaN'\n",
    "        "
   ]
  },
  {
   "cell_type": "code",
   "execution_count": 145,
   "id": "a694588a",
   "metadata": {},
   "outputs": [
    {
     "data": {
      "text/plain": [
       "100"
      ]
     },
     "execution_count": 145,
     "metadata": {},
     "output_type": "execute_result"
    }
   ],
   "source": [
    "change_to_integer('100 seasons')"
   ]
  },
  {
   "cell_type": "markdown",
   "id": "a42cafcc",
   "metadata": {},
   "source": [
    "* Apply the function for 'duration' in the new dataframe (nfx_movie & nfx_tvshow) created above and make two new columns"
   ]
  },
  {
   "cell_type": "code",
   "execution_count": 146,
   "id": "e8eca010",
   "metadata": {},
   "outputs": [
    {
     "data": {
      "text/plain": [
       "show_id\n",
       "s2        93\n",
       "s3        78\n",
       "s4        80\n",
       "s5       123\n",
       "s7        95\n",
       "        ... \n",
       "s7779     88\n",
       "s7781     94\n",
       "s7782     88\n",
       "s7783     99\n",
       "s7784    111\n",
       "Name: duration, Length: 4761, dtype: int64"
      ]
     },
     "execution_count": 146,
     "metadata": {},
     "output_type": "execute_result"
    }
   ],
   "source": [
    "nfx_movie['duration'] = nfx_movie['duration'].apply(lambda x : change_to_integer(x))\n",
    "nfx_movie['duration']"
   ]
  },
  {
   "cell_type": "code",
   "execution_count": 147,
   "id": "fb02c58c",
   "metadata": {},
   "outputs": [
    {
     "data": {
      "text/plain": [
       "show_id\n",
       "s1       4\n",
       "s6       1\n",
       "s12      1\n",
       "s25      2\n",
       "s30      1\n",
       "        ..\n",
       "s7760    3\n",
       "s7768    1\n",
       "s7776    1\n",
       "s7780    1\n",
       "s7786    1\n",
       "Name: duration, Length: 1891, dtype: int64"
      ]
     },
     "execution_count": 147,
     "metadata": {},
     "output_type": "execute_result"
    }
   ],
   "source": [
    "nfx_tvshow['duration'] = nfx_tvshow['duration'].apply(lambda x : change_to_integer(x))\n",
    "nfx_tvshow['duration']"
   ]
  },
  {
   "cell_type": "markdown",
   "id": "449f1b08",
   "metadata": {},
   "source": [
    "* Analysis for movies duration"
   ]
  },
  {
   "cell_type": "code",
   "execution_count": 148,
   "id": "a08e9964",
   "metadata": {},
   "outputs": [
    {
     "data": {
      "text/plain": [
       "Text(0.5, 0, 'Duration of the movie')"
      ]
     },
     "execution_count": 148,
     "metadata": {},
     "output_type": "execute_result"
    },
    {
     "data": {
      "image/png": "[encoded data removed]",
      "text/plain": [
       "<Figure size 576x432 with 1 Axes>"
      ]
     },
     "metadata": {},
     "output_type": "display_data"
    }
   ],
   "source": [
    "nfx_movie['duration'].plot(kind='hist')\n",
    "plt.xlabel('Duration of the movie')"
   ]
  },
  {
   "cell_type": "markdown",
   "id": "fd7818e3",
   "metadata": {},
   "source": [
    "> * Most of the movies on Netflix have duration between 70 - 130 mins"
   ]
  },
  {
   "cell_type": "markdown",
   "id": "f8bef103",
   "metadata": {},
   "source": [
    "* Analysis for TV Show and their season/s"
   ]
  },
  {
   "cell_type": "code",
   "execution_count": 149,
   "id": "02d356e0",
   "metadata": {},
   "outputs": [],
   "source": [
    "season = ['title','duration']\n",
    "nfx_tvshow_season = nfx_tvshow[season].sort_values(by='duration',ascending=False).head(20)"
   ]
  },
  {
   "cell_type": "markdown",
   "id": "ccf3162a",
   "metadata": {},
   "source": [
    "   * TV Shows with the highest number of seasons (Top 20)"
   ]
  },
  {
   "cell_type": "code",
   "execution_count": 150,
   "id": "ba1e9432",
   "metadata": {},
   "outputs": [
    {
     "data": {
      "text/html": [
       "<div>\n",
       "<style scoped>\n",
       "    .dataframe tbody tr th:only-of-type {\n",
       "        vertical-align: middle;\n",
       "    }\n",
       "\n",
       "    .dataframe tbody tr th {\n",
       "        vertical-align: top;\n",
       "    }\n",
       "\n",
       "    .dataframe thead th {\n",
       "        text-align: right;\n",
       "    }\n",
       "</style>\n",
       "<table border=\"1\" class=\"dataframe\">\n",
       "  <thead>\n",
       "    <tr style=\"text-align: right;\">\n",
       "      <th></th>\n",
       "      <th>title</th>\n",
       "      <th>duration</th>\n",
       "    </tr>\n",
       "    <tr>\n",
       "      <th>show_id</th>\n",
       "      <th></th>\n",
       "      <th></th>\n",
       "    </tr>\n",
       "  </thead>\n",
       "  <tbody>\n",
       "    <tr>\n",
       "      <th>s2539</th>\n",
       "      <td>Grey's Anatomy</td>\n",
       "      <td>16</td>\n",
       "    </tr>\n",
       "    <tr>\n",
       "      <th>s4439</th>\n",
       "      <td>NCIS</td>\n",
       "      <td>15</td>\n",
       "    </tr>\n",
       "    <tr>\n",
       "      <th>s5913</th>\n",
       "      <td>Supernatural</td>\n",
       "      <td>15</td>\n",
       "    </tr>\n",
       "    <tr>\n",
       "      <th>s1472</th>\n",
       "      <td>COMEDIANS of the world</td>\n",
       "      <td>13</td>\n",
       "    </tr>\n",
       "    <tr>\n",
       "      <th>s5138</th>\n",
       "      <td>Red vs. Blue</td>\n",
       "      <td>13</td>\n",
       "    </tr>\n",
       "    <tr>\n",
       "      <th>s1538</th>\n",
       "      <td>Criminal Minds</td>\n",
       "      <td>12</td>\n",
       "    </tr>\n",
       "    <tr>\n",
       "      <th>s7170</th>\n",
       "      <td>Trailer Park Boys</td>\n",
       "      <td>12</td>\n",
       "    </tr>\n",
       "    <tr>\n",
       "      <th>s2679</th>\n",
       "      <td>Heartland</td>\n",
       "      <td>11</td>\n",
       "    </tr>\n",
       "    <tr>\n",
       "      <th>s2264</th>\n",
       "      <td>Frasier</td>\n",
       "      <td>11</td>\n",
       "    </tr>\n",
       "    <tr>\n",
       "      <th>s1301</th>\n",
       "      <td>Cheers</td>\n",
       "      <td>11</td>\n",
       "    </tr>\n",
       "    <tr>\n",
       "      <th>s3593</th>\n",
       "      <td>LEGO Ninjago: Masters of Spinjitzu</td>\n",
       "      <td>10</td>\n",
       "    </tr>\n",
       "    <tr>\n",
       "      <th>s5796</th>\n",
       "      <td>Stargate SG-1</td>\n",
       "      <td>10</td>\n",
       "    </tr>\n",
       "    <tr>\n",
       "      <th>s1598</th>\n",
       "      <td>Danger Mouse: Classic Collection</td>\n",
       "      <td>10</td>\n",
       "    </tr>\n",
       "    <tr>\n",
       "      <th>s5539</th>\n",
       "      <td>Shameless (U.S.)</td>\n",
       "      <td>10</td>\n",
       "    </tr>\n",
       "    <tr>\n",
       "      <th>s2289</th>\n",
       "      <td>Friends</td>\n",
       "      <td>10</td>\n",
       "    </tr>\n",
       "    <tr>\n",
       "      <th>s1578</th>\n",
       "      <td>Dad's Army</td>\n",
       "      <td>10</td>\n",
       "    </tr>\n",
       "    <tr>\n",
       "      <th>s6984</th>\n",
       "      <td>The Walking Dead</td>\n",
       "      <td>9</td>\n",
       "    </tr>\n",
       "    <tr>\n",
       "      <th>s5819</th>\n",
       "      <td>Still Game</td>\n",
       "      <td>9</td>\n",
       "    </tr>\n",
       "    <tr>\n",
       "      <th>s6719</th>\n",
       "      <td>The Office (U.S.)</td>\n",
       "      <td>9</td>\n",
       "    </tr>\n",
       "    <tr>\n",
       "      <th>s2238</th>\n",
       "      <td>Forensic Files</td>\n",
       "      <td>9</td>\n",
       "    </tr>\n",
       "  </tbody>\n",
       "</table>\n",
       "</div>"
      ],
      "text/plain": [
       "                                      title  duration\n",
       "show_id                                              \n",
       "s2539                        Grey's Anatomy        16\n",
       "s4439                                  NCIS        15\n",
       "s5913                          Supernatural        15\n",
       "s1472                COMEDIANS of the world        13\n",
       "s5138                          Red vs. Blue        13\n",
       "s1538                        Criminal Minds        12\n",
       "s7170                     Trailer Park Boys        12\n",
       "s2679                             Heartland        11\n",
       "s2264                               Frasier        11\n",
       "s1301                                Cheers        11\n",
       "s3593    LEGO Ninjago: Masters of Spinjitzu        10\n",
       "s5796                         Stargate SG-1        10\n",
       "s1598      Danger Mouse: Classic Collection        10\n",
       "s5539                      Shameless (U.S.)        10\n",
       "s2289                               Friends        10\n",
       "s1578                            Dad's Army        10\n",
       "s6984                      The Walking Dead         9\n",
       "s5819                            Still Game         9\n",
       "s6719                     The Office (U.S.)         9\n",
       "s2238                        Forensic Files         9"
      ]
     },
     "execution_count": 150,
     "metadata": {},
     "output_type": "execute_result"
    }
   ],
   "source": [
    "nfx_tvshow_season"
   ]
  },
  {
   "cell_type": "code",
   "execution_count": 151,
   "id": "9c0b842a",
   "metadata": {},
   "outputs": [
    {
     "data": {
      "text/plain": [
       "Text(0.5, 0, 'Title')"
      ]
     },
     "execution_count": 151,
     "metadata": {},
     "output_type": "execute_result"
    },
    {
     "data": {
      "image/png": "[encoded data removed]",
      "text/plain": [
       "<Figure size 576x432 with 1 Axes>"
      ]
     },
     "metadata": {},
     "output_type": "display_data"
    }
   ],
   "source": [
    "nfx_tvshow_season.plot(kind='bar', x='title')\n",
    "plt.xlabel('Title')"
   ]
  },
  {
   "cell_type": "markdown",
   "id": "9dfc35be",
   "metadata": {},
   "source": [
    "> * TV show that has the highest number of season is Grey's Anatomy\n",
    "> * The second highest are NCIS and Supernatural"
   ]
  },
  {
   "cell_type": "markdown",
   "id": "f0cbfe38",
   "metadata": {},
   "source": [
    "4. Most Popular Genre on Netflix (Top 20)"
   ]
  },
  {
   "cell_type": "code",
   "execution_count": 152,
   "id": "b5ed6059",
   "metadata": {},
   "outputs": [
    {
     "data": {
      "text/plain": [
       "TV Action & Adventure         36\n",
       "Thrillers                     49\n",
       "TV Dramas                     62\n",
       "Reality TV                    64\n",
       "Classic Movies                69\n",
       "Docuseries                    84\n",
       "International Movies         104\n",
       "TV Comedies                  110\n",
       "Anime Series                 135\n",
       "British TV Shows             185\n",
       "Horror Movies                240\n",
       "Kids' TV                     273\n",
       "Crime TV Shows               291\n",
       "Stand-Up Comedy              292\n",
       "Documentaries                367\n",
       "Children & Family Movies     437\n",
       "International TV Shows       559\n",
       "Action & Adventure           700\n",
       "Comedies                    1043\n",
       "Dramas                      1348\n",
       "Name: genre, dtype: int64"
      ]
     },
     "execution_count": 152,
     "metadata": {},
     "output_type": "execute_result"
    }
   ],
   "source": [
    "nfx['genre'].value_counts().sort_values(ascending=True).tail(20)"
   ]
  },
  {
   "cell_type": "code",
   "execution_count": 153,
   "id": "89e3e0af",
   "metadata": {},
   "outputs": [
    {
     "data": {
      "text/plain": [
       "Text(0.5, 0, 'Genre')"
      ]
     },
     "execution_count": 153,
     "metadata": {},
     "output_type": "execute_result"
    },
    {
     "data": {
      "image/png": "[encoded data removed]",
      "text/plain": [
       "<Figure size 576x432 with 1 Axes>"
      ]
     },
     "metadata": {},
     "output_type": "display_data"
    }
   ],
   "source": [
    "nfx['genre'].value_counts().sort_values(ascending=True).tail(20).plot(kind='bar')\n",
    "plt.ylabel('Number of contents')\n",
    "plt.xlabel('Genre')"
   ]
  },
  {
   "cell_type": "markdown",
   "id": "d07d40dc",
   "metadata": {},
   "source": [
    "> * Most of the genre for contents on Netflix is Dramas."
   ]
  },
  {
   "cell_type": "code",
   "execution_count": null,
   "id": "54d19171",
   "metadata": {},
   "outputs": [],
   "source": []
  }
 ],
 "metadata": {
  "kernelspec": {
   "display_name": "Python 3",
   "language": "python",
   "name": "python3"
  },
  "language_info": {
   "codemirror_mode": {
    "name": "ipython",
    "version": 3
   },
   "file_extension": ".py",
   "mimetype": "text/x-python",
   "name": "python",
   "nbconvert_exporter": "python",
   "pygments_lexer": "ipython3",
   "version": "3.8.8"
  }
 },
 "nbformat": 4,
 "nbformat_minor": 5
}
